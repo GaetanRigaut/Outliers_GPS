{
 "cells": [
  {
   "cell_type": "code",
   "execution_count": 2,
   "metadata": {},
   "outputs": [],
   "source": [
    "import os\n",
    "import pandas as pd"
   ]
  },
  {
   "cell_type": "markdown",
   "metadata": {},
   "source": [
    "Open File"
   ]
  },
  {
   "cell_type": "code",
   "execution_count": 3,
   "metadata": {},
   "outputs": [
    {
     "name": "stdout",
     "output_type": "stream",
     "text": [
      "data-6abca0f8-8939-44f5-ac26-739d4dd69216.txt\n",
      "device-6abca0f8-8939-44f5-ac26-739d4dd69216.txt\n",
      "gps-6abca0f8-8939-44f5-ac26-739d4dd69216.txt\n",
      "raw-6abca0f8-8939-44f5-ac26-739d4dd69216.txt\n"
     ]
    }
   ],
   "source": [
    "for file in os.listdir('/Repos/GPS_outliers/input/old'):\n",
    "    print(file)"
   ]
  },
  {
   "cell_type": "markdown",
   "metadata": {},
   "source": [
    "Lecture du fichier et affichage sous forme de dataframe"
   ]
  },
  {
   "cell_type": "code",
   "execution_count": 4,
   "metadata": {},
   "outputs": [
    {
     "data": {
      "text/html": [
       "<div>\n",
       "<style scoped>\n",
       "    .dataframe tbody tr th:only-of-type {\n",
       "        vertical-align: middle;\n",
       "    }\n",
       "\n",
       "    .dataframe tbody tr th {\n",
       "        vertical-align: top;\n",
       "    }\n",
       "\n",
       "    .dataframe thead th {\n",
       "        text-align: right;\n",
       "    }\n",
       "</style>\n",
       "<table border=\"1\" class=\"dataframe\">\n",
       "  <thead>\n",
       "    <tr style=\"text-align: right;\">\n",
       "      <th></th>\n",
       "      <th>Timestamp</th>\n",
       "      <th>Quality</th>\n",
       "      <th>Lat</th>\n",
       "      <th>Lon</th>\n",
       "    </tr>\n",
       "  </thead>\n",
       "  <tbody>\n",
       "    <tr>\n",
       "      <th>0</th>\n",
       "      <td>1627980958672</td>\n",
       "      <td>2.5</td>\n",
       "      <td>47.639140</td>\n",
       "      <td>6.148163</td>\n",
       "    </tr>\n",
       "    <tr>\n",
       "      <th>1</th>\n",
       "      <td>1627980964469</td>\n",
       "      <td>14.5</td>\n",
       "      <td>47.636136</td>\n",
       "      <td>6.152410</td>\n",
       "    </tr>\n",
       "    <tr>\n",
       "      <th>2</th>\n",
       "      <td>1627980970488</td>\n",
       "      <td>5.0</td>\n",
       "      <td>47.636069</td>\n",
       "      <td>6.152629</td>\n",
       "    </tr>\n",
       "    <tr>\n",
       "      <th>3</th>\n",
       "      <td>1627980976462</td>\n",
       "      <td>2.5</td>\n",
       "      <td>47.636183</td>\n",
       "      <td>6.152918</td>\n",
       "    </tr>\n",
       "    <tr>\n",
       "      <th>4</th>\n",
       "      <td>1627980982470</td>\n",
       "      <td>1.5</td>\n",
       "      <td>47.636311</td>\n",
       "      <td>6.153307</td>\n",
       "    </tr>\n",
       "    <tr>\n",
       "      <th>...</th>\n",
       "      <td>...</td>\n",
       "      <td>...</td>\n",
       "      <td>...</td>\n",
       "      <td>...</td>\n",
       "    </tr>\n",
       "    <tr>\n",
       "      <th>595</th>\n",
       "      <td>1627984528424</td>\n",
       "      <td>3.0</td>\n",
       "      <td>47.583847</td>\n",
       "      <td>6.860338</td>\n",
       "    </tr>\n",
       "    <tr>\n",
       "      <th>596</th>\n",
       "      <td>1627984534426</td>\n",
       "      <td>3.0</td>\n",
       "      <td>47.583847</td>\n",
       "      <td>6.860338</td>\n",
       "    </tr>\n",
       "    <tr>\n",
       "      <th>597</th>\n",
       "      <td>1627984540425</td>\n",
       "      <td>3.0</td>\n",
       "      <td>47.583847</td>\n",
       "      <td>6.860338</td>\n",
       "    </tr>\n",
       "    <tr>\n",
       "      <th>598</th>\n",
       "      <td>1627984546476</td>\n",
       "      <td>3.0</td>\n",
       "      <td>47.583847</td>\n",
       "      <td>6.860338</td>\n",
       "    </tr>\n",
       "    <tr>\n",
       "      <th>599</th>\n",
       "      <td>1627984552400</td>\n",
       "      <td>3.0</td>\n",
       "      <td>47.583847</td>\n",
       "      <td>6.860338</td>\n",
       "    </tr>\n",
       "  </tbody>\n",
       "</table>\n",
       "<p>600 rows × 4 columns</p>\n",
       "</div>"
      ],
      "text/plain": [
       "         Timestamp  Quality        Lat       Lon\n",
       "0    1627980958672      2.5  47.639140  6.148163\n",
       "1    1627980964469     14.5  47.636136  6.152410\n",
       "2    1627980970488      5.0  47.636069  6.152629\n",
       "3    1627980976462      2.5  47.636183  6.152918\n",
       "4    1627980982470      1.5  47.636311  6.153307\n",
       "..             ...      ...        ...       ...\n",
       "595  1627984528424      3.0  47.583847  6.860338\n",
       "596  1627984534426      3.0  47.583847  6.860338\n",
       "597  1627984540425      3.0  47.583847  6.860338\n",
       "598  1627984546476      3.0  47.583847  6.860338\n",
       "599  1627984552400      3.0  47.583847  6.860338\n",
       "\n",
       "[600 rows x 4 columns]"
      ]
     },
     "execution_count": 4,
     "metadata": {},
     "output_type": "execute_result"
    }
   ],
   "source": [
    "df = pd.read_csv('/Repos/GPS_outliers/input/old/gps-6abca0f8-8939-44f5-ac26-739d4dd69216.txt')\n",
    "del df['Unnamed: 0']\n",
    "df"
   ]
  },
  {
   "cell_type": "markdown",
   "metadata": {},
   "source": [
    "Analyses du dataframe df"
   ]
  },
  {
   "cell_type": "code",
   "execution_count": 5,
   "metadata": {},
   "outputs": [
    {
     "data": {
      "text/plain": [
       "600"
      ]
     },
     "execution_count": 5,
     "metadata": {},
     "output_type": "execute_result"
    }
   ],
   "source": [
    "len(df)"
   ]
  },
  {
   "cell_type": "code",
   "execution_count": 6,
   "metadata": {},
   "outputs": [
    {
     "data": {
      "text/plain": [
       "(600, 4)"
      ]
     },
     "execution_count": 6,
     "metadata": {},
     "output_type": "execute_result"
    }
   ],
   "source": [
    "df.shape"
   ]
  },
  {
   "cell_type": "code",
   "execution_count": 8,
   "metadata": {},
   "outputs": [
    {
     "data": {
      "text/plain": [
       "Timestamp      int64\n",
       "Quality      float64\n",
       "Lat          float64\n",
       "Lon          float64\n",
       "dtype: object"
      ]
     },
     "execution_count": 8,
     "metadata": {},
     "output_type": "execute_result"
    }
   ],
   "source": [
    "df.dtypes"
   ]
  },
  {
   "cell_type": "code",
   "execution_count": 9,
   "metadata": {},
   "outputs": [
    {
     "data": {
      "text/plain": [
       "Timestamp    0\n",
       "Quality      0\n",
       "Lat          0\n",
       "Lon          0\n",
       "dtype: int64"
      ]
     },
     "execution_count": 9,
     "metadata": {},
     "output_type": "execute_result"
    }
   ],
   "source": [
    "df.isnull()\n",
    "df.isna()\n",
    "\n",
    "df.isnull().sum() "
   ]
  },
  {
   "cell_type": "code",
   "execution_count": 10,
   "metadata": {},
   "outputs": [
    {
     "data": {
      "text/html": [
       "<div>\n",
       "<style scoped>\n",
       "    .dataframe tbody tr th:only-of-type {\n",
       "        vertical-align: middle;\n",
       "    }\n",
       "\n",
       "    .dataframe tbody tr th {\n",
       "        vertical-align: top;\n",
       "    }\n",
       "\n",
       "    .dataframe thead th {\n",
       "        text-align: right;\n",
       "    }\n",
       "</style>\n",
       "<table border=\"1\" class=\"dataframe\">\n",
       "  <thead>\n",
       "    <tr style=\"text-align: right;\">\n",
       "      <th></th>\n",
       "      <th>Timestamp</th>\n",
       "      <th>Quality</th>\n",
       "      <th>Lat</th>\n",
       "      <th>Lon</th>\n",
       "    </tr>\n",
       "  </thead>\n",
       "  <tbody>\n",
       "    <tr>\n",
       "      <th>count</th>\n",
       "      <td>6.000000e+02</td>\n",
       "      <td>600.000000</td>\n",
       "      <td>600.000000</td>\n",
       "      <td>600.000000</td>\n",
       "    </tr>\n",
       "    <tr>\n",
       "      <th>mean</th>\n",
       "      <td>1.627983e+12</td>\n",
       "      <td>2.065000</td>\n",
       "      <td>47.636150</td>\n",
       "      <td>6.527674</td>\n",
       "    </tr>\n",
       "    <tr>\n",
       "      <th>std</th>\n",
       "      <td>1.040159e+06</td>\n",
       "      <td>0.752808</td>\n",
       "      <td>0.035486</td>\n",
       "      <td>0.221202</td>\n",
       "    </tr>\n",
       "    <tr>\n",
       "      <th>min</th>\n",
       "      <td>1.627981e+12</td>\n",
       "      <td>1.000000</td>\n",
       "      <td>47.583847</td>\n",
       "      <td>6.148163</td>\n",
       "    </tr>\n",
       "    <tr>\n",
       "      <th>25%</th>\n",
       "      <td>1.627982e+12</td>\n",
       "      <td>1.500000</td>\n",
       "      <td>47.599389</td>\n",
       "      <td>6.347321</td>\n",
       "    </tr>\n",
       "    <tr>\n",
       "      <th>50%</th>\n",
       "      <td>1.627983e+12</td>\n",
       "      <td>2.000000</td>\n",
       "      <td>47.636383</td>\n",
       "      <td>6.518465</td>\n",
       "    </tr>\n",
       "    <tr>\n",
       "      <th>75%</th>\n",
       "      <td>1.627984e+12</td>\n",
       "      <td>2.000000</td>\n",
       "      <td>47.664033</td>\n",
       "      <td>6.725950</td>\n",
       "    </tr>\n",
       "    <tr>\n",
       "      <th>max</th>\n",
       "      <td>1.627985e+12</td>\n",
       "      <td>14.500000</td>\n",
       "      <td>47.698512</td>\n",
       "      <td>6.860373</td>\n",
       "    </tr>\n",
       "  </tbody>\n",
       "</table>\n",
       "</div>"
      ],
      "text/plain": [
       "          Timestamp     Quality         Lat         Lon\n",
       "count  6.000000e+02  600.000000  600.000000  600.000000\n",
       "mean   1.627983e+12    2.065000   47.636150    6.527674\n",
       "std    1.040159e+06    0.752808    0.035486    0.221202\n",
       "min    1.627981e+12    1.000000   47.583847    6.148163\n",
       "25%    1.627982e+12    1.500000   47.599389    6.347321\n",
       "50%    1.627983e+12    2.000000   47.636383    6.518465\n",
       "75%    1.627984e+12    2.000000   47.664033    6.725950\n",
       "max    1.627985e+12   14.500000   47.698512    6.860373"
      ]
     },
     "execution_count": 10,
     "metadata": {},
     "output_type": "execute_result"
    }
   ],
   "source": [
    "df.describe() "
   ]
  },
  {
   "cell_type": "code",
   "execution_count": 13,
   "metadata": {},
   "outputs": [
    {
     "data": {
      "text/plain": [
       "0"
      ]
     },
     "execution_count": 13,
     "metadata": {},
     "output_type": "execute_result"
    }
   ],
   "source": [
    "df.duplicated()\n",
    "df.duplicated().sum()"
   ]
  },
  {
   "cell_type": "code",
   "execution_count": 15,
   "metadata": {},
   "outputs": [
    {
     "data": {
      "text/html": [
       "<div>\n",
       "<style scoped>\n",
       "    .dataframe tbody tr th:only-of-type {\n",
       "        vertical-align: middle;\n",
       "    }\n",
       "\n",
       "    .dataframe tbody tr th {\n",
       "        vertical-align: top;\n",
       "    }\n",
       "\n",
       "    .dataframe thead th {\n",
       "        text-align: right;\n",
       "    }\n",
       "</style>\n",
       "<table border=\"1\" class=\"dataframe\">\n",
       "  <thead>\n",
       "    <tr style=\"text-align: right;\">\n",
       "      <th></th>\n",
       "      <th>Timestamp</th>\n",
       "      <th>Quality</th>\n",
       "      <th>Lat</th>\n",
       "      <th>Lon</th>\n",
       "    </tr>\n",
       "  </thead>\n",
       "  <tbody>\n",
       "    <tr>\n",
       "      <th>0</th>\n",
       "      <td>1627980958672</td>\n",
       "      <td>2.5</td>\n",
       "      <td>47.639140</td>\n",
       "      <td>6.148163</td>\n",
       "    </tr>\n",
       "    <tr>\n",
       "      <th>1</th>\n",
       "      <td>1627980964469</td>\n",
       "      <td>14.5</td>\n",
       "      <td>47.636136</td>\n",
       "      <td>6.152410</td>\n",
       "    </tr>\n",
       "    <tr>\n",
       "      <th>2</th>\n",
       "      <td>1627980970488</td>\n",
       "      <td>5.0</td>\n",
       "      <td>47.636069</td>\n",
       "      <td>6.152629</td>\n",
       "    </tr>\n",
       "    <tr>\n",
       "      <th>3</th>\n",
       "      <td>1627980976462</td>\n",
       "      <td>2.5</td>\n",
       "      <td>47.636183</td>\n",
       "      <td>6.152918</td>\n",
       "    </tr>\n",
       "    <tr>\n",
       "      <th>4</th>\n",
       "      <td>1627980982470</td>\n",
       "      <td>1.5</td>\n",
       "      <td>47.636311</td>\n",
       "      <td>6.153307</td>\n",
       "    </tr>\n",
       "    <tr>\n",
       "      <th>...</th>\n",
       "      <td>...</td>\n",
       "      <td>...</td>\n",
       "      <td>...</td>\n",
       "      <td>...</td>\n",
       "    </tr>\n",
       "    <tr>\n",
       "      <th>595</th>\n",
       "      <td>1627984528424</td>\n",
       "      <td>3.0</td>\n",
       "      <td>47.583847</td>\n",
       "      <td>6.860338</td>\n",
       "    </tr>\n",
       "    <tr>\n",
       "      <th>596</th>\n",
       "      <td>1627984534426</td>\n",
       "      <td>3.0</td>\n",
       "      <td>47.583847</td>\n",
       "      <td>6.860338</td>\n",
       "    </tr>\n",
       "    <tr>\n",
       "      <th>597</th>\n",
       "      <td>1627984540425</td>\n",
       "      <td>3.0</td>\n",
       "      <td>47.583847</td>\n",
       "      <td>6.860338</td>\n",
       "    </tr>\n",
       "    <tr>\n",
       "      <th>598</th>\n",
       "      <td>1627984546476</td>\n",
       "      <td>3.0</td>\n",
       "      <td>47.583847</td>\n",
       "      <td>6.860338</td>\n",
       "    </tr>\n",
       "    <tr>\n",
       "      <th>599</th>\n",
       "      <td>1627984552400</td>\n",
       "      <td>3.0</td>\n",
       "      <td>47.583847</td>\n",
       "      <td>6.860338</td>\n",
       "    </tr>\n",
       "  </tbody>\n",
       "</table>\n",
       "<p>600 rows × 4 columns</p>\n",
       "</div>"
      ],
      "text/plain": [
       "         Timestamp  Quality        Lat       Lon\n",
       "0    1627980958672      2.5  47.639140  6.148163\n",
       "1    1627980964469     14.5  47.636136  6.152410\n",
       "2    1627980970488      5.0  47.636069  6.152629\n",
       "3    1627980976462      2.5  47.636183  6.152918\n",
       "4    1627980982470      1.5  47.636311  6.153307\n",
       "..             ...      ...        ...       ...\n",
       "595  1627984528424      3.0  47.583847  6.860338\n",
       "596  1627984534426      3.0  47.583847  6.860338\n",
       "597  1627984540425      3.0  47.583847  6.860338\n",
       "598  1627984546476      3.0  47.583847  6.860338\n",
       "599  1627984552400      3.0  47.583847  6.860338\n",
       "\n",
       "[600 rows x 4 columns]"
      ]
     },
     "execution_count": 15,
     "metadata": {},
     "output_type": "execute_result"
    }
   ],
   "source": [
    "df"
   ]
  },
  {
   "cell_type": "code",
   "execution_count": null,
   "metadata": {},
   "outputs": [],
   "source": []
  }
 ],
 "metadata": {
  "kernelspec": {
   "display_name": "Python 3",
   "language": "python",
   "name": "python3"
  },
  "language_info": {
   "codemirror_mode": {
    "name": "ipython",
    "version": 3
   },
   "file_extension": ".py",
   "mimetype": "text/x-python",
   "name": "python",
   "nbconvert_exporter": "python",
   "pygments_lexer": "ipython3",
   "version": "3.9.10"
  }
 },
 "nbformat": 4,
 "nbformat_minor": 2
}
